{
 "cells": [
  {
   "cell_type": "code",
   "execution_count": 3,
   "id": "d5e02ff9",
   "metadata": {},
   "outputs": [],
   "source": [
    "import numpy as np\n",
    "import matplotlib.pyplot as plt"
   ]
  },
  {
   "cell_type": "code",
   "execution_count": 78,
   "id": "ae4a6cc1",
   "metadata": {},
   "outputs": [],
   "source": [
    "class BSTNode:\n",
    "    def __init__(self, value):\n",
    "        self.value = value\n",
    "        self.right = None\n",
    "        self.left = None"
   ]
  },
  {
   "cell_type": "code",
   "execution_count": 950,
   "id": "7434618f",
   "metadata": {},
   "outputs": [],
   "source": [
    "class Tree:\n",
    "    def __init__(self, root):\n",
    "        self.root = root\n",
    "        self.counter = 0\n",
    "        self.treeList = []\n",
    "        \n",
    "        \n",
    "    def addNode(self, newNode):\n",
    "        flag = 0\n",
    "        node = self.root\n",
    "        candidateNode = node\n",
    "        while flag == 0:\n",
    "            directionFlag = 0\n",
    "            if newNode.value < node.value:\n",
    "                candidateNode = node.left\n",
    "                directionFlag = -1\n",
    "            else:\n",
    "                candidateNode = node.right\n",
    "                directionFlag = 1\n",
    "                \n",
    "            if candidateNode == None:\n",
    "                if directionFlag == 1:\n",
    "                    node.right = newNode\n",
    "                if directionFlag == -1:\n",
    "                    node.left = newNode\n",
    "                flag = 1\n",
    "                \n",
    "            node = candidateNode\n",
    "            \n",
    "    def removeNode():\n",
    "        pass\n",
    "    \n",
    "    def printTreeDepthFirst(self, node):\n",
    "        if node == None:\n",
    "            return 0\n",
    "        \n",
    "        print(node.value, self.counter)\n",
    "        self.counter += 1\n",
    "        self.printTree(node.right)\n",
    "        self.printTree(node.left)\n",
    "        \n",
    "    def printTree(self,node):\n",
    "        self.queue = []\n",
    "        self.values = []\n",
    "        self.queue.append(node)\n",
    "        self.values.append(node.value)\n",
    "        \n",
    "        while len(self.queue) != 0:\n",
    "            node = self.queue.pop(0)\n",
    "            if node == None:\n",
    "                self.values.append(np.NAN)\n",
    "                self.values.append(np.NAN)\n",
    "                continue\n",
    "                \n",
    "            if node.left == None:\n",
    "                self.values.append(np.NAN)\n",
    "                self.queue.append(None)\n",
    "            else:\n",
    "                self.values.append(node.left.value)\n",
    "                self.queue.append(node.left)\n",
    "                \n",
    "            if node.right == None:\n",
    "                self.values.append(np.NAN)\n",
    "                self.queue.append(None)\n",
    "\n",
    "            else:\n",
    "                self.values.append(node.right.value)\n",
    "                self.queue.append(node.right)\n",
    "                \n",
    "        \n",
    "        n = 0\n",
    "        while True:\n",
    "            rowList = self.values[2**n-1:2**(n+1)-1]\n",
    "            if np.nan in rowList and len(set(rowList)) == 1:\n",
    "                break\n",
    "            self.treeList.append(rowList)\n",
    "            n+=1\n",
    "            \n",
    "        return self.treeList\n",
    "\n",
    "            \n",
    "            \n",
    "        \n",
    "        \n",
    "        \n",
    "\n",
    "                    \n",
    "        \n",
    "        "
   ]
  },
  {
   "cell_type": "code",
   "execution_count": 951,
   "id": "1941c964",
   "metadata": {},
   "outputs": [],
   "source": [
    "tree = Tree(BSTNode(5))\n",
    "arr = np.random.randint(10,size=15)\n",
    "\n",
    "for elem in arr:\n",
    "    tree.addNode(BSTNode(elem))\n",
    "    \n",
    "result = tree.printTree(tree.root)\n",
    "#result"
   ]
  },
  {
   "cell_type": "code",
   "execution_count": 952,
   "id": "dd823989",
   "metadata": {},
   "outputs": [],
   "source": [
    "resultText = \"\"\n",
    "\n",
    "depth = len(result)\n",
    "scale = 1\n",
    "\n",
    "for n in range(depth):\n",
    "    row = result[n]\n",
    "    resultText += \" \" * (2**(depth-n-1)-1)*scale\n",
    "    for i, rowElem in enumerate(row):\n",
    "        if str(rowElem) == \"nan\":\n",
    "            resultText += \"-\"\n",
    "        else:\n",
    "            resultText += str(rowElem)\n",
    "        if (i+1) != len(row):\n",
    "            resultText += \" \" * (2**(depth-n)-1)*scale\n",
    "        \n",
    "    resultText += \" \" * (2**(depth-n-1)-1)*scale\n",
    "    resultText += \"\\n\""
   ]
  },
  {
   "cell_type": "code",
   "execution_count": 953,
   "id": "fa428edd",
   "metadata": {
    "scrolled": true
   },
   "outputs": [
    {
     "name": "stdout",
     "output_type": "stream",
     "text": [
      "                               5                               \n",
      "               2                               9               \n",
      "       1               2               7               9       \n",
      "   0       1       -       3       6       7       -       9   \n",
      " -   0   -   -   -   -   -   -   -   6   -   -   -   -   -   - \n",
      "- - - - - - - - - - - - - - - 6 - - - - - - - - - - - - - - - -\n",
      "\n"
     ]
    }
   ],
   "source": [
    "print(resultText)"
   ]
  },
  {
   "cell_type": "code",
   "execution_count": null,
   "id": "0ed2b783",
   "metadata": {},
   "outputs": [],
   "source": []
  },
  {
   "cell_type": "code",
   "execution_count": null,
   "id": "ea97bac6",
   "metadata": {},
   "outputs": [],
   "source": []
  },
  {
   "cell_type": "code",
   "execution_count": null,
   "id": "02dcde34",
   "metadata": {},
   "outputs": [],
   "source": []
  },
  {
   "cell_type": "code",
   "execution_count": null,
   "id": "b798e8bb",
   "metadata": {},
   "outputs": [],
   "source": []
  },
  {
   "cell_type": "code",
   "execution_count": null,
   "id": "1e50c7ae",
   "metadata": {},
   "outputs": [],
   "source": []
  },
  {
   "cell_type": "code",
   "execution_count": null,
   "id": "f089ccfa",
   "metadata": {},
   "outputs": [],
   "source": []
  },
  {
   "cell_type": "code",
   "execution_count": null,
   "id": "b2a40786",
   "metadata": {},
   "outputs": [],
   "source": []
  },
  {
   "cell_type": "code",
   "execution_count": null,
   "id": "8586589e",
   "metadata": {},
   "outputs": [],
   "source": []
  },
  {
   "cell_type": "code",
   "execution_count": null,
   "id": "0154a8cb",
   "metadata": {},
   "outputs": [],
   "source": []
  },
  {
   "cell_type": "code",
   "execution_count": null,
   "id": "7737e800",
   "metadata": {},
   "outputs": [],
   "source": []
  }
 ],
 "metadata": {
  "kernelspec": {
   "display_name": "Python 3 (ipykernel)",
   "language": "python",
   "name": "python3"
  },
  "language_info": {
   "codemirror_mode": {
    "name": "ipython",
    "version": 3
   },
   "file_extension": ".py",
   "mimetype": "text/x-python",
   "name": "python",
   "nbconvert_exporter": "python",
   "pygments_lexer": "ipython3",
   "version": "3.10.6"
  }
 },
 "nbformat": 4,
 "nbformat_minor": 5
}
