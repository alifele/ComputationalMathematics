{
 "cells": [
  {
   "cell_type": "markdown",
   "id": "7ebef8e2",
   "metadata": {},
   "source": [
    "## Non-Constructable Change Problem\n",
    "\n",
    "Given an array containing the all the coins you have, what is the smallest amount of change that you can NOT construct using those coins. \n",
    "\n",
    "For example if the list of coins is [1,2,5,9,9], then the smallest amount of change that you can not make with these coins is 4.\n",
    "\n",
    "Write a function that gets the array as an input and then returns the smallest non-constructable change"
   ]
  },
  {
   "cell_type": "code",
   "execution_count": 204,
   "id": "5e330741",
   "metadata": {},
   "outputs": [],
   "source": [
    "import numpy as np\n",
    "import matplotlib.pyplot as plt"
   ]
  },
  {
   "cell_type": "markdown",
   "id": "afe9be83",
   "metadata": {},
   "source": [
    "# First Solution\n",
    "\n",
    "For this solution I simply construc all of the sub arrays of the given array and then go ever the list of all subarrays to see what is the smallest amount of change that I can not make using those coins\n",
    "\n",
    "This solution is not a good solution since it is very suboptimal. And array of length $n$ has $2^n$ subarrays. So the time complexity of this algorithm scales exponentially."
   ]
  },
  {
   "cell_type": "code",
   "execution_count": 207,
   "id": "a7afbac1",
   "metadata": {},
   "outputs": [],
   "source": [
    "## Very bad idea: let's calculate the sum of elements of every member of the power set and then\n",
    "## find the minumum possibe sum that is not in the list of possible sums\n",
    "\n",
    "def nonConstructibleChange(coins):\n",
    "    ## Given the list of coins, I first need to construct its power set. Here in the language of list,\n",
    "    ## the power set will be a list containing lists that each list is the subset of coins list.\n",
    "    ## To properly construct the power set, I need to count from 0 to n^2-1 (n is the size of coins list)\n",
    "    ## and then convert that into binary and based on the binary string decide if I need to include a \n",
    "    ## specific element in the set or not.\n",
    "    ## for example if A = [a,b,c] n=3, then I need to count from 0 to 7 which will produce the following list of \n",
    "    ## binary numbers with the corresponding elements in the subset\n",
    "    ## 000 --> []\n",
    "    ## 001 --> [c]\n",
    "    ## 010 --> [b]\n",
    "    ## 011 --> [bc]\n",
    "    ## 100 --> [a]\n",
    "    ## 101 --> [a,c]\n",
    "    ## 110 --> [a,b]\n",
    "    ## 111 --> [a,b,c]\n",
    "    \n",
    "    powerSet = []\n",
    "    n = len(coins)\n",
    "    if n==0:\n",
    "        return 1\n",
    "    for num in range(2**n):\n",
    "        subset = []\n",
    "        maskList = [(num//2**(n-i-1))%2 for i in range(n)] ## for example [0,0,0,1]\n",
    "        for ind, elem in enumerate(maskList):\n",
    "            if elem == 0:\n",
    "                continue\n",
    "            else:\n",
    "                subset.append(coins[ind])\n",
    "        powerSet.append(subset)\n",
    "\n",
    "    possibleSumsDict  = dict()\n",
    "    ## I used dictionaries since it has lower time complexity to check if an element is in it\n",
    "    for elem in powerSet:\n",
    "        summedValue = sum(elem)\n",
    "        possibleSumsDict[str(summedValue)] = summedValue\n",
    "        \n",
    "        \n",
    "    for i in range(1,100):\n",
    "        if str(i) in possibleSumsDict:\n",
    "            continue\n",
    "        else:\n",
    "            return i\n",
    "\n"
   ]
  },
  {
   "cell_type": "code",
   "execution_count": 209,
   "id": "14c03abf",
   "metadata": {},
   "outputs": [
    {
     "data": {
      "text/plain": [
       "4"
      ]
     },
     "execution_count": 209,
     "metadata": {},
     "output_type": "execute_result"
    }
   ],
   "source": [
    "nonConstructibleChange([1,2,5,9,9])"
   ]
  },
  {
   "cell_type": "markdown",
   "id": "ea034127",
   "metadata": {},
   "source": [
    "# Second Solution\n",
    "\n",
    "Since we are looking for the smallest non-constructable change, we have an extra bit of information which is the term \"smallest\". However, in the first solution, we did not utalize this extra bit of information and searched for the whole space of possible set arrays. \n",
    "\n",
    "Building the subarrays (or subsets) of an array (or a set) can be done in a systematic way. For an array of length $n$, simply count from $0$ to $2^n$ in a $n$ bit binary way and then decide about the presense of any specific element of the main array in the subarray based on the corresponding digit in the binary number. \n",
    "\n",
    "For example suppse that we want to write down all of the sub arrays of a = [1,2,3]. Since this array has length 2, we need to enumerate from 0 to 7 in 3 bit binary numbers:\n",
    "\n",
    "$$ 000 \\\\ 001 \\\\ 010 \\\\ 011 \\\\ 100 \\\\ 101 \\\\ 110 \\\\ 111 $$\n",
    "\n",
    "The first number $000$ represents a subarray that contains no elements of a. the ID $001$ represents a subarray that contains the first element of \"a\" but no second and third element of \"a\" (note that we can intrepret it vice versa: i.e. $001$ represents a subarray that contains that third element of \"a\" but not the first and second element). So we will have the following subarrays:\n",
    "\n",
    "$$ \n",
    "000 \\rightarrow []  \\\\\n",
    "001 \\rightarrow [1] \\\\\n",
    "010 \\rightarrow [2] \\\\\n",
    "011 \\rightarrow [2,1] \\\\\n",
    "100 \\rightarrow [3] \\\\\n",
    "101 \\rightarrow [3,1]\\\\\n",
    "110 \\rightarrow [3,2]\\\\\n",
    "111 \\rightarrow [3,2,1]\n",
    "$$\n",
    "\n",
    "\n",
    "Now look at the pattern and the order that these subarrays emerge in this systematic way. We start with a subarray with no element $$\\mathcal{P} = \\{[]\\}$$. \n",
    "Then we pick the first element of original array and put it in the first subarray (while keeping the fist one) to have $$\\mathcal{P} = \\{[],[1]\\}$$. \n",
    "Now we pick the second element in the original array and add it to all of previous sub arrays while keeping the previous ones. So the power set will be: $$\\mathcal{P} = \\{[],[1],[2],[2,1]\\} $$\n",
    "Similarly, we now pick the second element in the main array and do the similar process: $$\\mathcal{P} = \\{[],[1],[2],[2,1],[3],[3,1],[3,2],[3,2,1]\\} $$\n",
    "\n",
    "So if we sort the original array in the ascending way, then the sum of its subarrays will have a better behaviour:\n",
    "\n",
    "$$ \n",
    "000 \\rightarrow [] \\xrightarrow{\\Sigma} 0 \\\\\n",
    "001 \\rightarrow [1] \\xrightarrow{\\Sigma} 1  \\\\\n",
    "010 \\rightarrow [2] \\xrightarrow{\\Sigma} 2 \\\\\n",
    "011 \\rightarrow [2,1] \\xrightarrow{\\Sigma} 3  \\\\\n",
    "100 \\rightarrow [3] \\xrightarrow{\\Sigma} 3 \\\\\n",
    "101 \\rightarrow [3,1] \\xrightarrow{\\Sigma} 4 \\\\\n",
    "110 \\rightarrow [3,2] \\xrightarrow{\\Sigma} 5 \\\\\n",
    "111 \\rightarrow [3,2,1] \\xrightarrow{\\Sigma} 6 \n",
    "$$\n",
    "\n",
    "So this is how we construc the array containing the sumed value of subarrays. We start with array $\\mathcal{S} = [0]$. Then pick the first element in the original array and add every elements of $\\mathcal{S}$ with it and then put it in $\\mathcal{S}$. So we will have: $$\\mathcal{S} = [0,\\underbrace{1}_{\\text{1 + [0]}}]$$\n",
    "With similar logic, we now pick the second element of the original array and repeat the operation described above. So we will have: $$\\mathcal{S} = [0,1,\\underbrace{2,3}_\\text{2+[0,1]}]$$\n",
    "And repeating the same thing with the third element we will have: $$\\mathcal{S} = [0,1,2,3,\\underbrace{3,4,5,6}_\\text{3+[0,1,2,3]}]$$\n",
    "\n"
   ]
  },
  {
   "cell_type": "markdown",
   "id": "4d6bbf36",
   "metadata": {},
   "source": [
    "So the second algorithm sorts the original array in a ascending form and then constructs the "
   ]
  },
  {
   "cell_type": "code",
   "execution_count": 216,
   "id": "b76affc7",
   "metadata": {},
   "outputs": [],
   "source": [
    "def nonConstructibleChange(coins):\n",
    "    arr = coins\n",
    "    arr.sort(reverse=False)\n",
    "    \n",
    "    possibleSums = [0]\n",
    "    targetSum = 1\n",
    "    index = 0\n",
    "    missingSum=-1\n",
    "    while index < len(arr):\n",
    "        flag = 0\n",
    "        candidateSums = []\n",
    "        for presums in possibleSums:\n",
    "            candidate = presums + arr[index]\n",
    "            #print(targetSum,possibleSums,arr[index],candidate,flag)\n",
    "            candidateSums.append(candidate)\n",
    "            if candidate == targetSum:\n",
    "                flag = 1\n",
    "                targetSum += 1\n",
    "        if flag == 0:\n",
    "                missingSum = targetSum\n",
    "                return missingSum\n",
    "        possibleSums += candidateSums\n",
    "        index += 1\n",
    "        \n",
    "    return possibleSums[-1]+1"
   ]
  },
  {
   "cell_type": "code",
   "execution_count": 217,
   "id": "ddd6a64a",
   "metadata": {},
   "outputs": [
    {
     "data": {
      "text/plain": [
       "4"
      ]
     },
     "execution_count": 217,
     "metadata": {},
     "output_type": "execute_result"
    }
   ],
   "source": [
    "nonConstructibleChange([1,2,5,9,9])"
   ]
  },
  {
   "cell_type": "code",
   "execution_count": 219,
   "id": "fc2ab067",
   "metadata": {},
   "outputs": [
    {
     "data": {
      "text/plain": [
       "1"
      ]
     },
     "execution_count": 219,
     "metadata": {},
     "output_type": "execute_result"
    }
   ],
   "source": [
    "nonConstructibleChange([2,3,4])"
   ]
  },
  {
   "cell_type": "code",
   "execution_count": null,
   "id": "3d205f03",
   "metadata": {},
   "outputs": [],
   "source": []
  },
  {
   "cell_type": "code",
   "execution_count": null,
   "id": "dbe6129e",
   "metadata": {},
   "outputs": [],
   "source": []
  },
  {
   "cell_type": "markdown",
   "id": "8437e1c9",
   "metadata": {},
   "source": [
    "### Plotting sum vs ID for subarrays of an ordered list and non ordered list\n",
    "\n",
    "Question: Given array a of length n, plot the sum of elements of sub arrays vs the ID of subarray"
   ]
  },
  {
   "cell_type": "code",
   "execution_count": 72,
   "id": "49cb62e1",
   "metadata": {},
   "outputs": [],
   "source": [
    "def plotSumVsIndex(arr):\n",
    "    n = len(arr)\n",
    "    IDList = [[(j//(2**(n-i-1))%2) for i in range(n)] for j in range(2**n)]\n",
    "    allSubArrays = []\n",
    "    for id_ in IDList:\n",
    "        subarray = []\n",
    "        for i,elem in enumerate(id_):\n",
    "            if elem == 1:\n",
    "                subarray.append(arr[i])\n",
    "        allSubArrays.append(subarray)\n",
    "\n",
    "\n",
    "\n",
    "    sumOfSubArrays = []\n",
    "    indexList = np.arange(0,2**n,1)\n",
    "    for i in range(2**n):\n",
    "        sumOfSubArrays.append(sum(allSubArrays[i]))\n",
    "        \n",
    "    fig = plt.figure(figsize=(10,6))\n",
    "    plt.plot(indexList,sumOfSubArrays)\n",
    "    plt.plot(indexList,sumOfSubArrays,\"o\")\n",
    "    plt.grid(\"on\")\n",
    "    \n",
    "    return allSubArrays, sumOfSubArrays\n",
    "        \n",
    "    "
   ]
  },
  {
   "cell_type": "code",
   "execution_count": 73,
   "id": "57606f23",
   "metadata": {},
   "outputs": [
    {
     "data": {
      "image/png": "[encoded data removed]",
      "text/plain": [
       "<Figure size 720x432 with 1 Axes>"
      ]
     },
     "metadata": {
      "needs_background": "light"
     },
     "output_type": "display_data"
    }
   ],
   "source": [
    "arr = [4,3,1,1,1,1,0,4]\n",
    "subArrays,sumed = plotSumVsIndex(arr)"
   ]
  },
  {
   "cell_type": "code",
   "execution_count": null,
   "id": "45187c96",
   "metadata": {},
   "outputs": [],
   "source": []
  },
  {
   "cell_type": "code",
   "execution_count": 86,
   "id": "26933575",
   "metadata": {},
   "outputs": [
    {
     "data": {
      "image/png": "[encoded data removed]",
      "text/plain": [
       "<Figure size 720x432 with 1 Axes>"
      ]
     },
     "metadata": {
      "needs_background": "light"
     },
     "output_type": "display_data"
    }
   ],
   "source": [
    "arr = [4,3,1]\n",
    "arr.sort(reverse=True)\n",
    "subArrays,summed = plotSumVsIndex(arr)"
   ]
  },
  {
   "cell_type": "code",
   "execution_count": 87,
   "id": "39501933",
   "metadata": {},
   "outputs": [
    {
     "data": {
      "text/plain": [
       "[[], [1], [3], [3, 1], [4], [4, 1], [4, 3], [4, 3, 1]]"
      ]
     },
     "execution_count": 87,
     "metadata": {},
     "output_type": "execute_result"
    }
   ],
   "source": [
    "subArrays"
   ]
  },
  {
   "cell_type": "code",
   "execution_count": 88,
   "id": "422c1069",
   "metadata": {},
   "outputs": [
    {
     "data": {
      "text/plain": [
       "[0, 1, 3, 4, 4, 5, 7, 8]"
      ]
     },
     "execution_count": 88,
     "metadata": {},
     "output_type": "execute_result"
    }
   ],
   "source": [
    "summed"
   ]
  },
  {
   "cell_type": "code",
   "execution_count": null,
   "id": "a9d57f29",
   "metadata": {},
   "outputs": [],
   "source": []
  },
  {
   "cell_type": "code",
   "execution_count": null,
   "id": "88c01b64",
   "metadata": {},
   "outputs": [],
   "source": []
  },
  {
   "cell_type": "code",
   "execution_count": null,
   "id": "7df5e033",
   "metadata": {},
   "outputs": [],
   "source": []
  },
  {
   "cell_type": "code",
   "execution_count": null,
   "id": "7c66492d",
   "metadata": {},
   "outputs": [],
   "source": []
  },
  {
   "cell_type": "code",
   "execution_count": null,
   "id": "b7f06eb1",
   "metadata": {},
   "outputs": [],
   "source": []
  },
  {
   "cell_type": "code",
   "execution_count": null,
   "id": "d09249a4",
   "metadata": {},
   "outputs": [],
   "source": []
  },
  {
   "cell_type": "code",
   "execution_count": null,
   "id": "5fd1a50f",
   "metadata": {},
   "outputs": [],
   "source": []
  },
  {
   "cell_type": "code",
   "execution_count": 195,
   "id": "25b89e61",
   "metadata": {},
   "outputs": [
    {
     "name": "stdout",
     "output_type": "stream",
     "text": [
      "13\n"
     ]
    }
   ],
   "source": [
    "arr = [1,2,4,5]\n",
    "arr.sort(reverse=False)\n",
    "\n",
    "possibleSums = [0]\n",
    "\n",
    "targetSum = 1\n",
    "index = 0\n",
    "missingSum=-1\n",
    "while index < len(arr):\n",
    "    flag = 0\n",
    "    candidateSums = []\n",
    "    for presums in possibleSums:\n",
    "        candidate = presums + arr[index]\n",
    "        #print(targetSum,possibleSums,arr[index],candidate,flag)\n",
    "        candidateSums.append(candidate)\n",
    "        if candidate == targetSum:\n",
    "            flag = 1\n",
    "            targetSum += 1\n",
    "    if flag == 0:\n",
    "            missingSum = targetSum\n",
    "            break\n",
    "    possibleSums += candidateSums\n",
    "\n",
    "    index += 1\n",
    "    \n",
    "print(possibleSums[-1]+1)"
   ]
  },
  {
   "cell_type": "code",
   "execution_count": 196,
   "id": "7d5b0eae",
   "metadata": {},
   "outputs": [
    {
     "data": {
      "text/plain": [
       "[0, 1, 2, 3, 4, 5, 6, 7, 5, 6, 7, 8, 9, 10, 11, 12]"
      ]
     },
     "execution_count": 196,
     "metadata": {},
     "output_type": "execute_result"
    }
   ],
   "source": [
    "possibleSums"
   ]
  },
  {
   "cell_type": "code",
   "execution_count": 197,
   "id": "0f4ca07d",
   "metadata": {},
   "outputs": [
    {
     "data": {
      "text/plain": [
       "-1"
      ]
     },
     "execution_count": 197,
     "metadata": {},
     "output_type": "execute_result"
    }
   ],
   "source": [
    "missingSum"
   ]
  },
  {
   "cell_type": "code",
   "execution_count": null,
   "id": "521849a9",
   "metadata": {},
   "outputs": [],
   "source": []
  },
  {
   "cell_type": "code",
   "execution_count": null,
   "id": "f9e97874",
   "metadata": {},
   "outputs": [],
   "source": []
  }
 ],
 "metadata": {
  "kernelspec": {
   "display_name": "Python 3 (ipykernel)",
   "language": "python",
   "name": "python3"
  },
  "language_info": {
   "codemirror_mode": {
    "name": "ipython",
    "version": 3
   },
   "file_extension": ".py",
   "mimetype": "text/x-python",
   "name": "python",
   "nbconvert_exporter": "python",
   "pygments_lexer": "ipython3",
   "version": "3.10.6"
  }
 },
 "nbformat": 4,
 "nbformat_minor": 5
}
