{
 "cells": [
  {
   "cell_type": "code",
   "execution_count": 478,
   "id": "e86efbb6",
   "metadata": {},
   "outputs": [],
   "source": [
    "# This is a teeny tiny scrip that helps calculating the truth table of the logical statements."
   ]
  },
  {
   "cell_type": "code",
   "execution_count": 479,
   "id": "6c18f184",
   "metadata": {},
   "outputs": [],
   "source": [
    "import numpy as np\n",
    "import matplotlib.pyplot as plt"
   ]
  },
  {
   "cell_type": "code",
   "execution_count": 480,
   "id": "b62a5648",
   "metadata": {},
   "outputs": [],
   "source": [
    "class Statement:\n",
    "    def __init__(self, variables, expression):\n",
    "        \"\"\"\n",
    "        variables: the logical variables\n",
    "        expression: the logical expression\n",
    "        \"\"\"\n",
    "        self.n = len(variables)\n",
    "        self.assignmentList = [[(i//2**(self.n-k-1))%2 for k in range(self.n)] for i in range(self.n**2-self.n%2)]\n",
    "        self.expression = expression\n",
    "        self.variables = variables\n",
    "        self.resultsList = []\n",
    "        \n",
    "    def evaluate(self):\n",
    "        for assignment in self.assignmentList:\n",
    "            expression = self.expression\n",
    "            for i in range(self.n):\n",
    "                expression = expression.replace(self.variables[i],str(assignment[i]))\n",
    "            result = eval(expression)*1\n",
    "            self.resultsList.append(result)\n",
    "            \n",
    "        self.fromatOutput()\n",
    "    \n",
    "    def fromatOutput(self):\n",
    "        output = \"\"\n",
    "        ## Putting the first row\n",
    "        for elem in self.variables:\n",
    "            output += \" \" + elem +\" \\u2503\"\n",
    "        output += \"result \\t \\n\"\n",
    "        ## Putting the connecting row\n",
    "        for elem in self.variables:\n",
    "            output += \"\\u2501\"*3 + \"\\u254B\"\n",
    "        output += \"\\u2501\"*6 + \"\\t \\n\"\n",
    "        ## Putting the results row\n",
    "        for i, assignment in enumerate(self.assignmentList):\n",
    "            for elem in assignment:\n",
    "                output += \" \"+str(elem) + \" \\u2503\"\n",
    "            output += \"  \" + str(self.resultsList[i]) + \"\\t \\n\"\n",
    "            \n",
    "            \n",
    "        print(output)\n",
    "            \n",
    "def imply(a,b):\n",
    "    return ((not a) or b)\n"
   ]
  },
  {
   "cell_type": "code",
   "execution_count": 481,
   "id": "ea27268e",
   "metadata": {},
   "outputs": [
    {
     "name": "stdout",
     "output_type": "stream",
     "text": [
      " P ┃ Q ┃ R ┃ S ┃result \t \n",
      "━━━╋━━━╋━━━╋━━━╋━━━━━━\t \n",
      " 0 ┃ 0 ┃ 0 ┃ 0 ┃  1\t \n",
      " 0 ┃ 0 ┃ 0 ┃ 1 ┃  1\t \n",
      " 0 ┃ 0 ┃ 1 ┃ 0 ┃  1\t \n",
      " 0 ┃ 0 ┃ 1 ┃ 1 ┃  1\t \n",
      " 0 ┃ 1 ┃ 0 ┃ 0 ┃  1\t \n",
      " 0 ┃ 1 ┃ 0 ┃ 1 ┃  1\t \n",
      " 0 ┃ 1 ┃ 1 ┃ 0 ┃  1\t \n",
      " 0 ┃ 1 ┃ 1 ┃ 1 ┃  1\t \n",
      " 1 ┃ 0 ┃ 0 ┃ 0 ┃  1\t \n",
      " 1 ┃ 0 ┃ 0 ┃ 1 ┃  1\t \n",
      " 1 ┃ 0 ┃ 1 ┃ 0 ┃  1\t \n",
      " 1 ┃ 0 ┃ 1 ┃ 1 ┃  1\t \n",
      " 1 ┃ 1 ┃ 0 ┃ 0 ┃  1\t \n",
      " 1 ┃ 1 ┃ 0 ┃ 1 ┃  1\t \n",
      " 1 ┃ 1 ┃ 1 ┃ 0 ┃  1\t \n",
      " 1 ┃ 1 ┃ 1 ┃ 1 ┃  1\t \n",
      "\n"
     ]
    }
   ],
   "source": [
    "statement = Statement([\"P\",\"Q\",\"R\",\"S\"],\"imply(imply(P,Q) and imply(R,S),imply(P and R, Q and S))\")\n",
    "statement.evaluate()"
   ]
  },
  {
   "cell_type": "code",
   "execution_count": null,
   "id": "4e9a051e",
   "metadata": {},
   "outputs": [],
   "source": []
  },
  {
   "cell_type": "code",
   "execution_count": null,
   "id": "083481a1",
   "metadata": {},
   "outputs": [],
   "source": []
  }
 ],
 "metadata": {
  "kernelspec": {
   "display_name": "Python 3 (ipykernel)",
   "language": "python",
   "name": "python3"
  },
  "language_info": {
   "codemirror_mode": {
    "name": "ipython",
    "version": 3
   },
   "file_extension": ".py",
   "mimetype": "text/x-python",
   "name": "python",
   "nbconvert_exporter": "python",
   "pygments_lexer": "ipython3",
   "version": "3.10.6"
  }
 },
 "nbformat": 4,
 "nbformat_minor": 5
}
