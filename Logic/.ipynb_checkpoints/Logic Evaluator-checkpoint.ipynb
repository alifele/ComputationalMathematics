{
 "cells": [
  {
   "cell_type": "code",
   "execution_count": 478,
   "id": "e86efbb6",
   "metadata": {},
   "outputs": [],
   "source": [
    "# This is a teeny tiny scrip that helps calculating the truth table of the logical statements."
   ]
  },
  {
   "cell_type": "code",
   "execution_count": 3,
   "id": "6c18f184",
   "metadata": {},
   "outputs": [],
   "source": [
    "import numpy as np\n",
    "import matplotlib.pyplot as plt"
   ]
  },
  {
   "cell_type": "code",
   "execution_count": 2,
   "id": "b62a5648",
   "metadata": {},
   "outputs": [],
   "source": [
    "class Statement:\n",
    "    def __init__(self, variables, expression):\n",
    "        \"\"\"\n",
    "        variables: the logical variables\n",
    "        expression: the logical expression\n",
    "        \"\"\"\n",
    "        self.n = len(variables)\n",
    "        self.assignmentList = [[(i//2**(self.n-k-1))%2 for k in range(self.n)] for i in range(self.n**2-self.n%2)]\n",
    "        self.expression = expression\n",
    "        self.variables = variables\n",
    "        self.resultsList = []\n",
    "        \n",
    "    def evaluate(self):\n",
    "        for assignment in self.assignmentList:\n",
    "            expression = self.expression\n",
    "            for i in range(self.n):\n",
    "                expression = expression.replace(self.variables[i],str(assignment[i]))\n",
    "            result = eval(expression)*1\n",
    "            self.resultsList.append(result)\n",
    "            \n",
    "        self.fromatOutput()\n",
    "    \n",
    "    def fromatOutput(self):\n",
    "        output = \"\"\n",
    "        ## Putting the first row\n",
    "        for elem in self.variables:\n",
    "            output += \" \" + elem +\" \\u2503\"\n",
    "        output += \"result \\t \\n\"\n",
    "        ## Putting the connecting row\n",
    "        for elem in self.variables:\n",
    "            output += \"\\u2501\"*3 + \"\\u254B\"\n",
    "        output += \"\\u2501\"*6 + \"\\t \\n\"\n",
    "        ## Putting the results row\n",
    "        for i, assignment in enumerate(self.assignmentList):\n",
    "            for elem in assignment:\n",
    "                output += \" \"+str(elem) + \" \\u2503\"\n",
    "            output += \"  \" + str(self.resultsList[i]) + \"\\t \\n\"\n",
    "            \n",
    "            \n",
    "        print(output)\n",
    "            \n",
    "def imply(a,b):\n",
    "    return ((not a) or b)\n",
    "\n",
    "def biImply(a,b):\n",
    "    return imply(a,b) and imply(b,a)\n"
   ]
  },
  {
   "cell_type": "code",
   "execution_count": 11,
   "id": "ea27268e",
   "metadata": {},
   "outputs": [
    {
     "name": "stdout",
     "output_type": "stream",
     "text": [
      " P ┃ Q ┃ R ┃ S ┃result \t \n",
      "━━━╋━━━╋━━━╋━━━╋━━━━━━\t \n",
      " 0 ┃ 0 ┃ 0 ┃ 0 ┃  1\t \n",
      " 0 ┃ 0 ┃ 0 ┃ 1 ┃  1\t \n",
      " 0 ┃ 0 ┃ 1 ┃ 0 ┃  1\t \n",
      " 0 ┃ 0 ┃ 1 ┃ 1 ┃  1\t \n",
      " 0 ┃ 1 ┃ 0 ┃ 0 ┃  1\t \n",
      " 0 ┃ 1 ┃ 0 ┃ 1 ┃  1\t \n",
      " 0 ┃ 1 ┃ 1 ┃ 0 ┃  1\t \n",
      " 0 ┃ 1 ┃ 1 ┃ 1 ┃  1\t \n",
      " 1 ┃ 0 ┃ 0 ┃ 0 ┃  1\t \n",
      " 1 ┃ 0 ┃ 0 ┃ 1 ┃  1\t \n",
      " 1 ┃ 0 ┃ 1 ┃ 0 ┃  1\t \n",
      " 1 ┃ 0 ┃ 1 ┃ 1 ┃  1\t \n",
      " 1 ┃ 1 ┃ 0 ┃ 0 ┃  1\t \n",
      " 1 ┃ 1 ┃ 0 ┃ 1 ┃  1\t \n",
      " 1 ┃ 1 ┃ 1 ┃ 0 ┃  1\t \n",
      " 1 ┃ 1 ┃ 1 ┃ 1 ┃  1\t \n",
      "\n"
     ]
    }
   ],
   "source": [
    "statement = Statement([\"P\",\"Q\",\"R\",\"S\"],\"imply(imply(P,Q) and imply(R,S),imply(P and R, Q and S))\")\n",
    "statement.evaluate()"
   ]
  },
  {
   "cell_type": "markdown",
   "id": "0aed7157",
   "metadata": {},
   "source": [
    "# Some examples\n",
    "\n",
    "Let's calculate the truth table of the following expression:\n",
    "\n",
    "$$ (P \\vee Q \\Rightarrow R) \\Leftrightarrow ((P \\Rightarrow R) \\wedge (Q \\Rightarrow R))  $$"
   ]
  },
  {
   "cell_type": "code",
   "execution_count": 22,
   "id": "083481a1",
   "metadata": {},
   "outputs": [
    {
     "name": "stdout",
     "output_type": "stream",
     "text": [
      " P ┃ Q ┃ R ┃result \t \n",
      "━━━╋━━━╋━━━╋━━━━━━\t \n",
      " 0 ┃ 0 ┃ 0 ┃  1\t \n",
      " 0 ┃ 0 ┃ 1 ┃  1\t \n",
      " 0 ┃ 1 ┃ 0 ┃  1\t \n",
      " 0 ┃ 1 ┃ 1 ┃  1\t \n",
      " 1 ┃ 0 ┃ 0 ┃  1\t \n",
      " 1 ┃ 0 ┃ 1 ┃  1\t \n",
      " 1 ┃ 1 ┃ 0 ┃  1\t \n",
      " 1 ┃ 1 ┃ 1 ┃  1\t \n",
      "\n"
     ]
    }
   ],
   "source": [
    "statement = Statement([\"P\",\"Q\",\"R\"],\"biImply(imply(P or Q, R),imply(P,R) and imply(Q,R))\")\n",
    "statement.evaluate()"
   ]
  },
  {
   "cell_type": "markdown",
   "id": "c84630e8",
   "metadata": {},
   "source": [
    "$$ ((P \\Rightarrow Q) \\wedge (R \\Rightarrow S)) \\Rightarrow ((P \\wedge R) \\Rightarrow (Q \\wedge S))$$"
   ]
  },
  {
   "cell_type": "code",
   "execution_count": 24,
   "id": "d39010e9",
   "metadata": {},
   "outputs": [
    {
     "name": "stdout",
     "output_type": "stream",
     "text": [
      " P ┃ Q ┃ R ┃ S ┃result \t \n",
      "━━━╋━━━╋━━━╋━━━╋━━━━━━\t \n",
      " 0 ┃ 0 ┃ 0 ┃ 0 ┃  1\t \n",
      " 0 ┃ 0 ┃ 0 ┃ 1 ┃  1\t \n",
      " 0 ┃ 0 ┃ 1 ┃ 0 ┃  1\t \n",
      " 0 ┃ 0 ┃ 1 ┃ 1 ┃  1\t \n",
      " 0 ┃ 1 ┃ 0 ┃ 0 ┃  1\t \n",
      " 0 ┃ 1 ┃ 0 ┃ 1 ┃  1\t \n",
      " 0 ┃ 1 ┃ 1 ┃ 0 ┃  1\t \n",
      " 0 ┃ 1 ┃ 1 ┃ 1 ┃  1\t \n",
      " 1 ┃ 0 ┃ 0 ┃ 0 ┃  1\t \n",
      " 1 ┃ 0 ┃ 0 ┃ 1 ┃  1\t \n",
      " 1 ┃ 0 ┃ 1 ┃ 0 ┃  1\t \n",
      " 1 ┃ 0 ┃ 1 ┃ 1 ┃  1\t \n",
      " 1 ┃ 1 ┃ 0 ┃ 0 ┃  1\t \n",
      " 1 ┃ 1 ┃ 0 ┃ 1 ┃  1\t \n",
      " 1 ┃ 1 ┃ 1 ┃ 0 ┃  1\t \n",
      " 1 ┃ 1 ┃ 1 ┃ 1 ┃  1\t \n",
      "\n"
     ]
    }
   ],
   "source": [
    "statement = Statement([\"P\",\"Q\",\"R\",\"S\"],\"imply(imply(P,Q) and imply(R,S),imply(P and R, Q and S))\")\n",
    "statement.evaluate()"
   ]
  },
  {
   "cell_type": "markdown",
   "id": "d734c79d",
   "metadata": {},
   "source": [
    "$$ \\neg (P \\Rightarrow Q) \\Leftrightarrow (P \\wedge \\neg Q) $$"
   ]
  },
  {
   "cell_type": "code",
   "execution_count": 25,
   "id": "2612f5c2",
   "metadata": {},
   "outputs": [
    {
     "name": "stdout",
     "output_type": "stream",
     "text": [
      " P ┃ Q ┃result \t \n",
      "━━━╋━━━╋━━━━━━\t \n",
      " 0 ┃ 0 ┃  1\t \n",
      " 0 ┃ 1 ┃  1\t \n",
      " 1 ┃ 0 ┃  1\t \n",
      " 1 ┃ 1 ┃  1\t \n",
      "\n"
     ]
    }
   ],
   "source": [
    "statement = Statement([\"P\",\"Q\"],\"biImply(not imply(P,Q),P and not Q)\")\n",
    "statement.evaluate()"
   ]
  },
  {
   "cell_type": "markdown",
   "id": "75af8430",
   "metadata": {},
   "source": [
    "### Is it OK to write expressions like the following statement?\n",
    "\n",
    "$$P \\Rightarrow Q \\Rightarrow R$$\n",
    "\n",
    "If grouping the statements do not matter, then writing the whole thing without paranthesis is not ambiguous. The following truth table shows that RHS and LHS are NOT equvalent but the LHS CAN imply the RHS (not vice versa)\n",
    "\n",
    "$$((P \\Rightarrow Q) \\Rightarrow R) \\Rightarrow (P \\Rightarrow (Q \\Rightarrow R))$$"
   ]
  },
  {
   "cell_type": "code",
   "execution_count": 33,
   "id": "80746731",
   "metadata": {
    "scrolled": true
   },
   "outputs": [
    {
     "name": "stdout",
     "output_type": "stream",
     "text": [
      " P ┃ Q ┃ R ┃result \t \n",
      "━━━╋━━━╋━━━╋━━━━━━\t \n",
      " 0 ┃ 0 ┃ 0 ┃  1\t \n",
      " 0 ┃ 0 ┃ 1 ┃  1\t \n",
      " 0 ┃ 1 ┃ 0 ┃  1\t \n",
      " 0 ┃ 1 ┃ 1 ┃  1\t \n",
      " 1 ┃ 0 ┃ 0 ┃  1\t \n",
      " 1 ┃ 0 ┃ 1 ┃  1\t \n",
      " 1 ┃ 1 ┃ 0 ┃  1\t \n",
      " 1 ┃ 1 ┃ 1 ┃  1\t \n",
      "\n"
     ]
    }
   ],
   "source": [
    "statement = Statement([\"P\",\"Q\",\"R\"],\"imply(imply(imply(P,Q),R),imply(P,imply(Q,R)))\")\n",
    "statement.evaluate()"
   ]
  },
  {
   "cell_type": "markdown",
   "id": "3d1fac5c",
   "metadata": {},
   "source": [
    "$$((P \\Rightarrow Q) \\Rightarrow R)) \\Rightarrow (P \\Rightarrow R)$$\n",
    "\n",
    "$$(P \\Rightarrow (Q \\Rightarrow R)) \\Rightarrow (P \\Rightarrow R)$$"
   ]
  },
  {
   "cell_type": "code",
   "execution_count": 30,
   "id": "8994d99b",
   "metadata": {},
   "outputs": [
    {
     "name": "stdout",
     "output_type": "stream",
     "text": [
      " P ┃ Q ┃ R ┃result \t \n",
      "━━━╋━━━╋━━━╋━━━━━━\t \n",
      " 0 ┃ 0 ┃ 0 ┃  1\t \n",
      " 0 ┃ 0 ┃ 1 ┃  1\t \n",
      " 0 ┃ 1 ┃ 0 ┃  1\t \n",
      " 0 ┃ 1 ┃ 1 ┃  1\t \n",
      " 1 ┃ 0 ┃ 0 ┃  0\t \n",
      " 1 ┃ 0 ┃ 1 ┃  1\t \n",
      " 1 ┃ 1 ┃ 0 ┃  1\t \n",
      " 1 ┃ 1 ┃ 1 ┃  1\t \n",
      "\n",
      " P ┃ Q ┃ R ┃result \t \n",
      "━━━╋━━━╋━━━╋━━━━━━\t \n",
      " 0 ┃ 0 ┃ 0 ┃  1\t \n",
      " 0 ┃ 0 ┃ 1 ┃  1\t \n",
      " 0 ┃ 1 ┃ 0 ┃  1\t \n",
      " 0 ┃ 1 ┃ 1 ┃  1\t \n",
      " 1 ┃ 0 ┃ 0 ┃  0\t \n",
      " 1 ┃ 0 ┃ 1 ┃  1\t \n",
      " 1 ┃ 1 ┃ 0 ┃  1\t \n",
      " 1 ┃ 1 ┃ 1 ┃  1\t \n",
      "\n"
     ]
    }
   ],
   "source": [
    "statement1 = Statement([\"P\",\"Q\",\"R\"],\"imply( imply(imply(P,Q),R) , imply(P,R) )\")\n",
    "statement2 = Statement([\"P\",\"Q\",\"R\"],\"imply( imply(P,imply(Q,R)) , imply(P,R) )\")\n",
    "\n",
    "statement1.evaluate()\n",
    "statement2.evaluate()"
   ]
  },
  {
   "cell_type": "markdown",
   "id": "6aa1ff65",
   "metadata": {},
   "source": [
    "\n",
    "$$((((P \\Rightarrow Q) \\Rightarrow R) \\Rightarrow S)\\Rightarrow T)) \\Rightarrow (P \\Rightarrow T)$$\n"
   ]
  },
  {
   "cell_type": "code",
   "execution_count": 31,
   "id": "375f7d4c",
   "metadata": {},
   "outputs": [
    {
     "name": "stdout",
     "output_type": "stream",
     "text": [
      " P ┃ Q ┃ R ┃ S ┃ T ┃result \t \n",
      "━━━╋━━━╋━━━╋━━━╋━━━╋━━━━━━\t \n",
      " 0 ┃ 0 ┃ 0 ┃ 0 ┃ 0 ┃  1\t \n",
      " 0 ┃ 0 ┃ 0 ┃ 0 ┃ 1 ┃  1\t \n",
      " 0 ┃ 0 ┃ 0 ┃ 1 ┃ 0 ┃  1\t \n",
      " 0 ┃ 0 ┃ 0 ┃ 1 ┃ 1 ┃  1\t \n",
      " 0 ┃ 0 ┃ 1 ┃ 0 ┃ 0 ┃  1\t \n",
      " 0 ┃ 0 ┃ 1 ┃ 0 ┃ 1 ┃  1\t \n",
      " 0 ┃ 0 ┃ 1 ┃ 1 ┃ 0 ┃  1\t \n",
      " 0 ┃ 0 ┃ 1 ┃ 1 ┃ 1 ┃  1\t \n",
      " 0 ┃ 1 ┃ 0 ┃ 0 ┃ 0 ┃  1\t \n",
      " 0 ┃ 1 ┃ 0 ┃ 0 ┃ 1 ┃  1\t \n",
      " 0 ┃ 1 ┃ 0 ┃ 1 ┃ 0 ┃  1\t \n",
      " 0 ┃ 1 ┃ 0 ┃ 1 ┃ 1 ┃  1\t \n",
      " 0 ┃ 1 ┃ 1 ┃ 0 ┃ 0 ┃  1\t \n",
      " 0 ┃ 1 ┃ 1 ┃ 0 ┃ 1 ┃  1\t \n",
      " 0 ┃ 1 ┃ 1 ┃ 1 ┃ 0 ┃  1\t \n",
      " 0 ┃ 1 ┃ 1 ┃ 1 ┃ 1 ┃  1\t \n",
      " 1 ┃ 0 ┃ 0 ┃ 0 ┃ 0 ┃  0\t \n",
      " 1 ┃ 0 ┃ 0 ┃ 0 ┃ 1 ┃  1\t \n",
      " 1 ┃ 0 ┃ 0 ┃ 1 ┃ 0 ┃  1\t \n",
      " 1 ┃ 0 ┃ 0 ┃ 1 ┃ 1 ┃  1\t \n",
      " 1 ┃ 0 ┃ 1 ┃ 0 ┃ 0 ┃  0\t \n",
      " 1 ┃ 0 ┃ 1 ┃ 0 ┃ 1 ┃  1\t \n",
      " 1 ┃ 0 ┃ 1 ┃ 1 ┃ 0 ┃  1\t \n",
      " 1 ┃ 0 ┃ 1 ┃ 1 ┃ 1 ┃  1\t \n",
      "\n"
     ]
    }
   ],
   "source": [
    "statement = Statement([\"P\",\"Q\",\"R\",\"S\",\"T\"],\"imply(imply(imply(imply(imply(P,Q),R),S),T), imply(P,T) )\")\n",
    "statement.evaluate()\n"
   ]
  },
  {
   "cell_type": "markdown",
   "id": "f8f4ee88",
   "metadata": {},
   "source": [
    "### Foundation of the proof by cases:\n",
    "\n",
    "$$((P \\vee Q) \\Rightarrow R) \\Rightarrow ((P \\Rightarrow R) \\wedge (Q \\Rightarrow R) )$$ "
   ]
  },
  {
   "cell_type": "code",
   "execution_count": 7,
   "id": "4820a2e0",
   "metadata": {},
   "outputs": [
    {
     "name": "stdout",
     "output_type": "stream",
     "text": [
      " P ┃ Q ┃ R ┃result \t \n",
      "━━━╋━━━╋━━━╋━━━━━━\t \n",
      " 0 ┃ 0 ┃ 0 ┃  1\t \n",
      " 0 ┃ 0 ┃ 1 ┃  1\t \n",
      " 0 ┃ 1 ┃ 0 ┃  1\t \n",
      " 0 ┃ 1 ┃ 1 ┃  1\t \n",
      " 1 ┃ 0 ┃ 0 ┃  0\t \n",
      " 1 ┃ 0 ┃ 1 ┃  1\t \n",
      " 1 ┃ 1 ┃ 0 ┃  0\t \n",
      " 1 ┃ 1 ┃ 1 ┃  1\t \n",
      "\n",
      " P ┃ Q ┃ R ┃result \t \n",
      "━━━╋━━━╋━━━╋━━━━━━\t \n",
      " 0 ┃ 0 ┃ 0 ┃  1\t \n",
      " 0 ┃ 0 ┃ 1 ┃  1\t \n",
      " 0 ┃ 1 ┃ 0 ┃  1\t \n",
      " 0 ┃ 1 ┃ 1 ┃  1\t \n",
      " 1 ┃ 0 ┃ 0 ┃  1\t \n",
      " 1 ┃ 0 ┃ 1 ┃  1\t \n",
      " 1 ┃ 1 ┃ 0 ┃  1\t \n",
      " 1 ┃ 1 ┃ 1 ┃  1\t \n",
      "\n"
     ]
    }
   ],
   "source": [
    "statement1 = Statement([\"P\",\"Q\",\"R\"],\"biImply(imply(P or Q, R),imply(imply(P,R),imply(Q,R)))\")\n",
    "statement2 = Statement([\"P\",\"Q\",\"R\"],\"imply(imply(P or Q, R),imply(imply(P,R),imply(Q,R)))\")\n",
    "\n",
    "statement1.evaluate()\n",
    "statement2.evaluate()"
   ]
  },
  {
   "cell_type": "code",
   "execution_count": null,
   "id": "257e761e",
   "metadata": {},
   "outputs": [],
   "source": []
  }
 ],
 "metadata": {
  "kernelspec": {
   "display_name": "Python 3 (ipykernel)",
   "language": "python",
   "name": "python3"
  },
  "language_info": {
   "codemirror_mode": {
    "name": "ipython",
    "version": 3
   },
   "file_extension": ".py",
   "mimetype": "text/x-python",
   "name": "python",
   "nbconvert_exporter": "python",
   "pygments_lexer": "ipython3",
   "version": "3.10.6"
  }
 },
 "nbformat": 4,
 "nbformat_minor": 5
}
